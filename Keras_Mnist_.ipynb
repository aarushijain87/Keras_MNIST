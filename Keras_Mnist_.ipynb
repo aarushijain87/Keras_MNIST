{
 "cells": [
  {
   "cell_type": "code",
   "execution_count": 1,
   "metadata": {
    "colab": {},
    "colab_type": "code",
    "id": "TPcE-cf03x1G"
   },
   "outputs": [
    {
     "name": "stderr",
     "output_type": "stream",
     "text": [
      "Using TensorFlow backend.\n"
     ]
    }
   ],
   "source": [
    "from __future__ import print_function\n",
    "import keras\n",
    "from keras.datasets import mnist\n",
    "from keras.models import Sequential\n",
    "from keras.layers import Dense, Dropout, Flatten, Activation\n",
    "from keras.layers import Conv2D, MaxPooling2D\n",
    "from keras import backend as K"
   ]
  },
  {
   "cell_type": "code",
   "execution_count": 2,
   "metadata": {
    "colab": {},
    "colab_type": "code",
    "id": "vk-aKTUq37Mp"
   },
   "outputs": [
    {
     "name": "stdout",
     "output_type": "stream",
     "text": [
      "Downloading data from https://s3.amazonaws.com/img-datasets/mnist.npz\n",
      "11493376/11490434 [==============================] - 38s 3us/step\n"
     ]
    }
   ],
   "source": [
    "(x_train, y_train), (x_test, y_test) = mnist.load_data()"
   ]
  },
  {
   "cell_type": "code",
   "execution_count": 3,
   "metadata": {
    "colab": {},
    "colab_type": "code",
    "id": "1Q22VwhX38Uo"
   },
   "outputs": [],
   "source": [
    "batch_size = 128\n",
    "num_classes = 10\n",
    "epochs = 25"
   ]
  },
  {
   "cell_type": "code",
   "execution_count": 4,
   "metadata": {
    "colab": {},
    "colab_type": "code",
    "id": "3pmTy4WP39hn"
   },
   "outputs": [],
   "source": [
    "img_rows, img_cols = 28, 28"
   ]
  },
  {
   "cell_type": "code",
   "execution_count": 5,
   "metadata": {
    "colab": {},
    "colab_type": "code",
    "id": "vKyX4Tya3-Zv"
   },
   "outputs": [],
   "source": [
    "if K.image_data_format() == 'channels_first':\n",
    "    x_train = x_train.reshape(x_train.shape[0], 1, img_rows, img_cols)\n",
    "    x_test = x_test.reshape(x_test.shape[0], 1, img_rows, img_cols)\n",
    "    input_shape = (1, img_rows, img_cols)\n",
    "else:\n",
    "    x_train = x_train.reshape(x_train.shape[0], img_rows, img_cols, 1)\n",
    "    x_test = x_test.reshape(x_test.shape[0], img_rows, img_cols, 1)\n",
    "input_shape = (img_rows, img_cols, 1)"
   ]
  },
  {
   "cell_type": "code",
   "execution_count": 6,
   "metadata": {
    "colab": {
     "base_uri": "https://localhost:8080/",
     "height": 70
    },
    "colab_type": "code",
    "id": "JHL9_0sE3_1Q",
    "outputId": "1069787c-d979-4f69-8544-e413d21f5206"
   },
   "outputs": [
    {
     "name": "stdout",
     "output_type": "stream",
     "text": [
      "x_train shape: (60000, 28, 28, 1)\n",
      "60000 train samples\n",
      "10000 test samples\n"
     ]
    }
   ],
   "source": [
    "x_train = x_train.astype('float32')\n",
    "x_test = x_test.astype('float32')\n",
    "x_train /= 255\n",
    "x_test /= 255\n",
    "print('x_train shape:', x_train.shape)\n",
    "print(x_train.shape[0], 'train samples')\n",
    "print(x_test.shape[0], 'test samples')"
   ]
  },
  {
   "cell_type": "code",
   "execution_count": 7,
   "metadata": {
    "colab": {},
    "colab_type": "code",
    "id": "tczq1zJJ4Bd0"
   },
   "outputs": [],
   "source": [
    "# One hot encoding\n",
    "y_train = keras.utils.to_categorical(y_train, num_classes)\n",
    "y_test = keras.utils.to_categorical(y_test, num_classes)"
   ]
  },
  {
   "cell_type": "code",
   "execution_count": 8,
   "metadata": {
    "colab": {
     "base_uri": "https://localhost:8080/",
     "height": 90
    },
    "colab_type": "code",
    "id": "uUShWbV24C4R",
    "outputId": "4a4609b6-71b8-4015-cb07-bc832c4939e9"
   },
   "outputs": [],
   "source": [
    "model = Sequential()"
   ]
  },
  {
   "cell_type": "code",
   "execution_count": 9,
   "metadata": {
    "colab": {},
    "colab_type": "code",
    "id": "bEzSoYEB4EOl"
   },
   "outputs": [],
   "source": [
    "import tensorflow as tf "
   ]
  },
  {
   "cell_type": "code",
   "execution_count": 10,
   "metadata": {
    "colab": {
     "base_uri": "https://localhost:8080/",
     "height": 266
    },
    "colab_type": "code",
    "id": "p5P1W5284GnQ",
    "outputId": "a9e986a6-b4c4-4c4f-9e4b-170027fa9648"
   },
   "outputs": [
    {
     "name": "stdout",
     "output_type": "stream",
     "text": [
      "WARNING:tensorflow:From C:\\Users\\Khushi\\Anaconda3\\lib\\site-packages\\tensorflow\\python\\framework\\op_def_library.py:263: colocate_with (from tensorflow.python.framework.ops) is deprecated and will be removed in a future version.\n",
      "Instructions for updating:\n",
      "Colocations handled automatically by placer.\n",
      "WARNING:tensorflow:From C:\\Users\\Khushi\\Anaconda3\\lib\\site-packages\\keras\\backend\\tensorflow_backend.py:3445: calling dropout (from tensorflow.python.ops.nn_ops) with keep_prob is deprecated and will be removed in a future version.\n",
      "Instructions for updating:\n",
      "Please use `rate` instead of `keep_prob`. Rate should be set to `rate = 1 - keep_prob`.\n"
     ]
    },
    {
     "name": "stderr",
     "output_type": "stream",
     "text": [
      "C:\\Users\\Khushi\\Anaconda3\\lib\\site-packages\\keras\\activations.py:211: UserWarning: Do not pass a layer instance (such as Activation) as the activation argument of another layer. Instead, advanced activation layers should be used just like any other layer in a model.\n",
      "  identifier=identifier.__class__.__name__))\n"
     ]
    }
   ],
   "source": [
    "model.add(Conv2D(64, kernel_size=(3, 3), activation='relu', input_shape=input_shape))\n",
    "model.add(MaxPooling2D(pool_size=(2, 2)))\n",
    "model.add(Conv2D(64, (3, 3), activation='relu'))\n",
    "model.add(MaxPooling2D(pool_size=(2, 2)))\n",
    "\n",
    "model.add(Flatten())\n",
    "\n",
    "model.add(Dense(128, activation='relu'))\n",
    "model.add(Dropout(0.5))\n",
    "\n",
    "model.add(Dense(128, activation='relu'))\n",
    "model.add(Dropout(0.5))\n",
    "\n",
    "model.add(Dense(num_classes, activation=Activation(tf.nn.softmax)))"
   ]
  },
  {
   "cell_type": "code",
   "execution_count": 11,
   "metadata": {
    "colab": {
     "base_uri": "https://localhost:8080/",
     "height": 107
    },
    "colab_type": "code",
    "id": "xf9mmKWK4QMh",
    "outputId": "501ea538-6328-4770-f1dd-4e93cad7098e"
   },
   "outputs": [],
   "source": [
    "model.compile(loss=keras.losses.categorical_crossentropy,\n",
    "              optimizer=keras.optimizers.Adadelta(),\n",
    "metrics=['accuracy'])"
   ]
  },
  {
   "cell_type": "code",
   "execution_count": 12,
   "metadata": {
    "colab": {
     "base_uri": "https://localhost:8080/",
     "height": 1000
    },
    "colab_type": "code",
    "id": "hRMGGn5g4RdW",
    "outputId": "e1f08187-2581-4061-ac4b-4e49e17acee3"
   },
   "outputs": [
    {
     "name": "stdout",
     "output_type": "stream",
     "text": [
      "WARNING:tensorflow:From C:\\Users\\Khushi\\Anaconda3\\lib\\site-packages\\tensorflow\\python\\ops\\math_ops.py:3066: to_int32 (from tensorflow.python.ops.math_ops) is deprecated and will be removed in a future version.\n",
      "Instructions for updating:\n",
      "Use tf.cast instead.\n",
      "Train on 60000 samples, validate on 10000 samples\n",
      "Epoch 1/25\n",
      "60000/60000 [==============================] - 72s 1ms/step - loss: 0.4092 - acc: 0.8694 - val_loss: 0.0728 - val_acc: 0.9786\n",
      "Epoch 2/25\n",
      "60000/60000 [==============================] - 66s 1ms/step - loss: 0.1200 - acc: 0.9669 - val_loss: 0.0410 - val_acc: 0.9869\n",
      "Epoch 3/25\n",
      "60000/60000 [==============================] - 78s 1ms/step - loss: 0.0881 - acc: 0.9767 - val_loss: 0.0350 - val_acc: 0.9892\n",
      "Epoch 4/25\n",
      "60000/60000 [==============================] - 83s 1ms/step - loss: 0.0711 - acc: 0.9805 - val_loss: 0.0317 - val_acc: 0.9900\n",
      "Epoch 5/25\n",
      "60000/60000 [==============================] - 80s 1ms/step - loss: 0.0606 - acc: 0.9837 - val_loss: 0.0359 - val_acc: 0.9899\n",
      "Epoch 6/25\n",
      "60000/60000 [==============================] - 66s 1ms/step - loss: 0.0520 - acc: 0.9854 - val_loss: 0.0314 - val_acc: 0.9911\n",
      "Epoch 7/25\n",
      "60000/60000 [==============================] - 71s 1ms/step - loss: 0.0462 - acc: 0.9878 - val_loss: 0.0312 - val_acc: 0.9912\n",
      "Epoch 8/25\n",
      "60000/60000 [==============================] - 74s 1ms/step - loss: 0.0420 - acc: 0.9883 - val_loss: 0.0290 - val_acc: 0.9912\n",
      "Epoch 9/25\n",
      "60000/60000 [==============================] - 69s 1ms/step - loss: 0.0397 - acc: 0.9896 - val_loss: 0.0258 - val_acc: 0.9922\n",
      "Epoch 10/25\n",
      "60000/60000 [==============================] - 65s 1ms/step - loss: 0.0331 - acc: 0.9906 - val_loss: 0.0311 - val_acc: 0.9921\n",
      "Epoch 11/25\n",
      "60000/60000 [==============================] - 66s 1ms/step - loss: 0.0331 - acc: 0.9911 - val_loss: 0.0329 - val_acc: 0.9912\n",
      "Epoch 12/25\n",
      "60000/60000 [==============================] - 64s 1ms/step - loss: 0.0320 - acc: 0.9909 - val_loss: 0.0258 - val_acc: 0.9926\n",
      "Epoch 13/25\n",
      "60000/60000 [==============================] - 63s 1ms/step - loss: 0.0299 - acc: 0.9922 - val_loss: 0.0280 - val_acc: 0.9925\n",
      "Epoch 14/25\n",
      "60000/60000 [==============================] - 63s 1ms/step - loss: 0.0260 - acc: 0.9930 - val_loss: 0.0288 - val_acc: 0.9924\n",
      "Epoch 15/25\n",
      "60000/60000 [==============================] - 63s 1ms/step - loss: 0.0267 - acc: 0.9928 - val_loss: 0.0273 - val_acc: 0.9925\n",
      "Epoch 16/25\n",
      "60000/60000 [==============================] - 64s 1ms/step - loss: 0.0249 - acc: 0.9929 - val_loss: 0.0274 - val_acc: 0.9927\n",
      "Epoch 17/25\n",
      "60000/60000 [==============================] - 64s 1ms/step - loss: 0.0238 - acc: 0.9934 - val_loss: 0.0265 - val_acc: 0.9924\n",
      "Epoch 18/25\n",
      "60000/60000 [==============================] - 68s 1ms/step - loss: 0.0206 - acc: 0.9943 - val_loss: 0.0260 - val_acc: 0.9930\n",
      "Epoch 19/25\n",
      "60000/60000 [==============================] - 65s 1ms/step - loss: 0.0200 - acc: 0.9949 - val_loss: 0.0298 - val_acc: 0.9925\n",
      "Epoch 20/25\n",
      "60000/60000 [==============================] - 64s 1ms/step - loss: 0.0189 - acc: 0.9946 - val_loss: 0.0356 - val_acc: 0.9915\n",
      "Epoch 21/25\n",
      "60000/60000 [==============================] - 66s 1ms/step - loss: 0.0197 - acc: 0.9942 - val_loss: 0.0279 - val_acc: 0.9932\n",
      "Epoch 22/25\n",
      "60000/60000 [==============================] - 65s 1ms/step - loss: 0.0196 - acc: 0.9946 - val_loss: 0.0311 - val_acc: 0.9924\n",
      "Epoch 23/25\n",
      "60000/60000 [==============================] - 67s 1ms/step - loss: 0.0189 - acc: 0.9950 - val_loss: 0.0344 - val_acc: 0.9928\n",
      "Epoch 24/25\n",
      "60000/60000 [==============================] - 64s 1ms/step - loss: 0.0181 - acc: 0.9951 - val_loss: 0.0284 - val_acc: 0.9934\n",
      "Epoch 25/25\n",
      "60000/60000 [==============================] - 63s 1ms/step - loss: 0.0185 - acc: 0.9950 - val_loss: 0.0296 - val_acc: 0.9931\n"
     ]
    },
    {
     "data": {
      "text/plain": [
       "<keras.callbacks.History at 0x2874196c710>"
      ]
     },
     "execution_count": 12,
     "metadata": {},
     "output_type": "execute_result"
    }
   ],
   "source": [
    "model.fit(x_train, y_train,\n",
    "          batch_size=batch_size,\n",
    "          epochs=epochs,\n",
    "          verbose=1,\n",
    "validation_data=(x_test, y_test))"
   ]
  },
  {
   "cell_type": "code",
   "execution_count": 13,
   "metadata": {
    "colab": {
     "base_uri": "https://localhost:8080/",
     "height": 52
    },
    "colab_type": "code",
    "id": "R6U6JC6Z4Scj",
    "outputId": "8ce04909-1c8d-4818-ccb5-3d15bd49bc68"
   },
   "outputs": [
    {
     "name": "stdout",
     "output_type": "stream",
     "text": [
      "Test loss: 0.029631809656603673\n",
      "Test accuracy: 0.9931\n"
     ]
    }
   ],
   "source": [
    "score = model.evaluate(x_test, y_test, verbose=0)\n",
    "print('Test loss:', score[0])\n",
    "print('Test accuracy:', score[1])"
   ]
  },
  {
   "cell_type": "code",
   "execution_count": null,
   "metadata": {},
   "outputs": [],
   "source": []
  }
 ],
 "metadata": {
  "accelerator": "GPU",
  "colab": {
   "collapsed_sections": [],
   "name": "Copy of Keras Mnist.ipynb",
   "provenance": [],
   "version": "0.3.2"
  },
  "kernelspec": {
   "display_name": "Python 3",
   "language": "python",
   "name": "python3"
  },
  "language_info": {
   "codemirror_mode": {
    "name": "ipython",
    "version": 3
   },
   "file_extension": ".py",
   "mimetype": "text/x-python",
   "name": "python",
   "nbconvert_exporter": "python",
   "pygments_lexer": "ipython3",
   "version": "3.7.3"
  }
 },
 "nbformat": 4,
 "nbformat_minor": 1
}
